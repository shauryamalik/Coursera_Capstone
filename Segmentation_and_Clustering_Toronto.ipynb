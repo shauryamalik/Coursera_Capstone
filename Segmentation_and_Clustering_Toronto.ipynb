{
 "cells": [
  {
   "cell_type": "markdown",
   "metadata": {},
   "source": [
    "<h1>Segmentation and clustering Toronto</h1>\n",
    "\n",
    "<h3>Run the commented commands to see results</h3>"
   ]
  },
  {
   "cell_type": "markdown",
   "metadata": {},
   "source": [
    "We use BeautifulSoup to scrape data from the web. Run the df command to see the entire dataset."
   ]
  },
  {
   "cell_type": "code",
   "execution_count": 177,
   "metadata": {},
   "outputs": [],
   "source": [
    "import pandas as pd\n",
    "import requests\n",
    "from bs4 import BeautifulSoup\n",
    "\n",
    "res = requests.get(\"https://en.wikipedia.org/wiki/List_of_postal_codes_of_Canada:_M\")\n",
    "soup = BeautifulSoup(res.content,'lxml')\n",
    "table = soup.find_all('table')[0]\n",
    "df_can = pd.read_html(str(table))\n",
    "\n",
    "df = df_can[0]\n",
    "#df"
   ]
  },
  {
   "cell_type": "markdown",
   "metadata": {},
   "source": [
    "Now, we mark the first row of the dataframe as the header. The original shape of the dataframe is (288,3)."
   ]
  },
  {
   "cell_type": "code",
   "execution_count": 178,
   "metadata": {},
   "outputs": [],
   "source": [
    "\n",
    "df.columns = df.iloc[0]\n",
    "df = df[1:]\n",
    "\n",
    "#df.shape"
   ]
  },
  {
   "cell_type": "markdown",
   "metadata": {},
   "source": [
    "Now, we begin cleaning the dataset. First we remove those records which do not have any Borough assigned. Run the shape command to get (211,3)."
   ]
  },
  {
   "cell_type": "code",
   "execution_count": 179,
   "metadata": {},
   "outputs": [],
   "source": [
    "df = df[df.Borough != 'Not assigned']\n",
    "\n",
    "#df.shape"
   ]
  },
  {
   "cell_type": "markdown",
   "metadata": {},
   "source": [
    "Now, we equate the name of the Borough and Neighbourhood, if there is a Borough name for a Postcode but Neighbourhood is not assigned."
   ]
  },
  {
   "cell_type": "code",
   "execution_count": 180,
   "metadata": {},
   "outputs": [],
   "source": [
    "df.loc[df.Neighbourhood == 'Not assigned', ['Borough', 'Neighbourhood']] =\\\n",
    "df.loc[df.Neighbourhood == 'Not assigned'].Borough\n",
    "\n",
    "#df.shape"
   ]
  },
  {
   "cell_type": "markdown",
   "metadata": {},
   "source": [
    "Below we can see all rows which have duplicate entries for one postcode, i.e. multiple neighbourhoods under one postcode. These list includes the first entry as well, hence 'keep=False'. Run the 'dt' command to see this subset or the 'dt.shape' command to see number of original entries and all the duplicate rows too."
   ]
  },
  {
   "cell_type": "code",
   "execution_count": 181,
   "metadata": {},
   "outputs": [],
   "source": [
    "dt = df[df.duplicated('Postcode', keep=False)]\n",
    "\n",
    "#dt\n",
    "#dt.shape"
   ]
  },
  {
   "cell_type": "markdown",
   "metadata": {},
   "source": [
    "Here we merge Postcodes with multiple Neighbourhood entries. Running the 'df_mod' command will show final output.\n",
    "\n",
    "The last command will return empty set as no rows remaining have duplicate records."
   ]
  },
  {
   "cell_type": "code",
   "execution_count": 162,
   "metadata": {},
   "outputs": [],
   "source": [
    "df_mod = df.groupby(['Postcode', 'Borough'])['Neighbourhood'].apply(', '.join).reset_index()\n",
    "\n",
    "#df_mod\n",
    "\n",
    "#df_mod[df_mod.duplicated('Postcode', keep=False)]"
   ]
  },
  {
   "cell_type": "code",
   "execution_count": 163,
   "metadata": {},
   "outputs": [
    {
     "data": {
      "text/plain": [
       "(103, 3)"
      ]
     },
     "execution_count": 163,
     "metadata": {},
     "output_type": "execute_result"
    }
   ],
   "source": [
    "df_mod.shape"
   ]
  },
  {
   "cell_type": "code",
   "execution_count": null,
   "metadata": {},
   "outputs": [],
   "source": []
  }
 ],
 "metadata": {
  "kernelspec": {
   "display_name": "Python 2",
   "language": "python",
   "name": "python2"
  },
  "language_info": {
   "codemirror_mode": {
    "name": "ipython",
    "version": 2
   },
   "file_extension": ".py",
   "mimetype": "text/x-python",
   "name": "python",
   "nbconvert_exporter": "python",
   "pygments_lexer": "ipython2",
   "version": "2.7.15"
  }
 },
 "nbformat": 4,
 "nbformat_minor": 2
}
